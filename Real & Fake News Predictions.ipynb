{
 "cells": [
  {
   "cell_type": "code",
   "execution_count": 10,
   "id": "a2ca6005-15c3-498a-8c86-6cec9d36385b",
   "metadata": {},
   "outputs": [
    {
     "name": "stdout",
     "output_type": "stream",
     "text": [
      "                                            text_all  label\n",
      "0  BREAKING: GOP Chairman Grassley Has Had Enough...      1\n",
      "1  Failed GOP Candidates Remembered In Hilarious ...      1\n",
      "2  Mike Pence’s New DC Neighbors Are HILARIOUSLY ...      1\n",
      "\n",
      "Class balance:\n",
      " label\n",
      "1    23481\n",
      "0    21417\n",
      "Name: count, dtype: int64\n",
      "Accuracy: 0.9960\n",
      "\n",
      "Classification report:\n",
      "               precision    recall  f1-score   support\n",
      "\n",
      "    Real (0)     0.9958    0.9958    0.9958      4284\n",
      "    Fake (1)     0.9962    0.9962    0.9962      4696\n",
      "\n",
      "    accuracy                         0.9960      8980\n",
      "   macro avg     0.9960    0.9960    0.9960      8980\n",
      "weighted avg     0.9960    0.9960    0.9960      8980\n",
      "\n",
      "Saved: model.pkl, vectorizer.pkl\n",
      "Parliament passes the annual budget with increased healthcare spending. -> Real (0)\n",
      "Scientists claim a secret herb cures every disease overnight. -> Fake (1)\n"
     ]
    }
   ],
   "source": [
    "# ---------------------------------------\n",
    "# Fake News Detection System\n",
    "# Using Python, Scikit-learn, and TF-IDF\n",
    "# ---------------------------------------\n",
    "\n",
    "import os\n",
    "import numpy as np\n",
    "import pandas as pd\n",
    "import matplotlib.pyplot as plt\n",
    "\n",
    "from sklearn.model_selection import train_test_split\n",
    "from sklearn.feature_extraction.text import TfidfVectorizer\n",
    "from sklearn.svm import LinearSVC\n",
    "from sklearn.metrics import accuracy_score, classification_report, confusion_matrix\n",
    "import joblib\n",
    "\n",
    "# -----------------------------\n",
    "# 1. File Paths and Validation\n",
    "# -----------------------------\n",
    "TRUE_PATH = r\"C:\\Users\\sahil\\Desktop\\ML Pred Project\\True.csv\"\n",
    "FAKE_PATH = r\"C:\\Users\\sahil\\Desktop\\ML Pred Project\\Fake.csv\"\n",
    "\n",
    "assert os.path.exists(TRUE_PATH), f\"Missing file: {TRUE_PATH}\"\n",
    "assert os.path.exists(FAKE_PATH), f\"Missing file: {FAKE_PATH}\"\n",
    "\n",
    "# -----------------------------\n",
    "# 2. Load Datasets\n",
    "# -----------------------------\n",
    "df_true = pd.read_csv(TRUE_PATH)\n",
    "df_fake = pd.read_csv(FAKE_PATH)\n",
    "\n",
    "# Label encoding: 0 = Real, 1 = Fake\n",
    "df_true[\"label\"] = 0\n",
    "df_fake[\"label\"] = 1\n",
    "\n",
    "# -----------------------------\n",
    "# 3. Data Cleaning\n",
    "# -----------------------------\n",
    "for df in (df_true, df_fake):\n",
    "    for col in [\"title\", \"text\"]:\n",
    "        if col not in df.columns:\n",
    "            df[col] = \"\"\n",
    "        df[col] = df[col].fillna(\"\").astype(str)\n",
    "\n",
    "# Combine title and text into a single column\n",
    "for df in (df_true, df_fake):\n",
    "    df[\"text_all\"] = (df[\"title\"].fillna(\"\") + \" \" + df[\"text\"].fillna(\"\")).str.strip()\n",
    "\n",
    "# -----------------------------\n",
    "# 4. Merge and Shuffle Data\n",
    "# -----------------------------\n",
    "df = pd.concat(\n",
    "    [df_true[[\"text_all\", \"label\"]], df_fake[[\"text_all\", \"label\"]]],\n",
    "    ignore_index=True\n",
    ").sample(frac=1.0, random_state=42).reset_index(drop=True)\n",
    "\n",
    "print(df.head(3))\n",
    "print(\"\\nClass balance:\\n\", df[\"label\"].value_counts())\n",
    "\n",
    "# -----------------------------\n",
    "# 5. Feature Extraction\n",
    "# -----------------------------\n",
    "X_text = df[\"text_all\"].astype(str).values\n",
    "y = df[\"label\"].values\n",
    "\n",
    "vectorizer = TfidfVectorizer(\n",
    "    stop_words=\"english\",\n",
    "    lowercase=True,\n",
    "    max_features=10000,\n",
    "    ngram_range=(1, 2),\n",
    "    min_df=2\n",
    ")\n",
    "\n",
    "X = vectorizer.fit_transform(X_text)\n",
    "\n",
    "# -----------------------------\n",
    "# 6. Train-Test Split\n",
    "# -----------------------------\n",
    "X_train, X_test, y_train, y_test = train_test_split(\n",
    "    X, y, test_size=0.2, stratify=y, random_state=42\n",
    ")\n",
    "\n",
    "# -----------------------------\n",
    "# 7. Model Training\n",
    "# -----------------------------\n",
    "clf = LinearSVC()\n",
    "clf.fit(X_train, y_train)\n",
    "\n",
    "# -----------------------------\n",
    "# 8. Model Evaluation\n",
    "# -----------------------------\n",
    "y_pred = clf.predict(X_test)\n",
    "acc = accuracy_score(y_test, y_pred)\n",
    "print(f\"Accuracy: {acc:.4f}\\n\")\n",
    "\n",
    "print(\"Classification report:\\n\",\n",
    "      classification_report(y_test, y_pred, digits=4, target_names=[\"Real (0)\", \"Fake (1)\"]))\n",
    "\n",
    "# -----------------------------\n",
    "# 9. Save Model and Vectorizer\n",
    "# -----------------------------\n",
    "joblib.dump(clf, \"model.pkl\")\n",
    "joblib.dump(vectorizer, \"vectorizer.pkl\")\n",
    "print(\"Saved: model.pkl, vectorizer.pkl\")\n",
    "\n",
    "# -----------------------------\n",
    "# 10. Prediction Function\n",
    "# -----------------------------\n",
    "def predict_label(text: str) -> str:\n",
    "    vec = vectorizer.transform([text])\n",
    "    pred = clf.predict(vec)[0]\n",
    "    return \"Fake (1)\" if pred == 1 else \"Real (0)\"\n",
    "\n",
    "# Example Predictions\n",
    "samples = [\n",
    "    \"Parliament passes the annual budget with increased healthcare spending.\",\n",
    "    \"Scientists claim a secret herb cures every disease overnight.\"\n",
    "]\n",
    "\n",
    "for sample in samples:\n",
    "    print(sample, \"->\", predict_label(sample))"
   ]
  },
  {
   "cell_type": "code",
   "execution_count": 11,
   "id": "f932a5ec-6e7c-4c4e-82ab-0db5df7f33eb",
   "metadata": {},
   "outputs": [
    {
     "name": "stdout",
     "output_type": "stream",
     "text": [
      "Real (0)\n"
     ]
    }
   ],
   "source": [
    "import sys\n",
    "import joblib\n",
    "\n",
    "# Load trained model and vectorizer\n",
    "model = joblib.load('model.pkl')\n",
    "vectorizer = joblib.load('vectorizer.pkl')\n",
    "\n",
    "def predict_label(text: str) -> str:\n",
    "    X = vectorizer.transform([text])\n",
    "    pred = model.predict(X)[0]\n",
    "    return \"Fake (1)\" if pred == 1 else \"Real (0)\"\n",
    "\n",
    "if __name__ == '__main__':\n",
    "    if len(sys.argv) < 2:\n",
    "        print('Usage: python predict.py \"your news text here\"')\n",
    "        sys.exit(1)\n",
    "    print(predict_label(sys.argv[1]))"
   ]
  },
  {
   "cell_type": "code",
   "execution_count": 12,
   "id": "37944e2e-8f3f-4175-b2f3-e5bccbb53f0c",
   "metadata": {},
   "outputs": [
    {
     "name": "stdout",
     "output_type": "stream",
     "text": [
      "Fake (1)\n"
     ]
    }
   ],
   "source": [
    "!python predict.py \"NASA confirms water found on Mars in large quantities.\""
   ]
  },
  {
   "cell_type": "code",
   "execution_count": 13,
   "id": "de4c539c-2c1c-44da-9029-305eac325280",
   "metadata": {},
   "outputs": [
    {
     "name": "stdout",
     "output_type": "stream",
     "text": [
      "Real (0)\n"
     ]
    }
   ],
   "source": [
    "!python predict.py \"The following statementsÂ were posted to the verified Twitter accounts of U.S. President Donald Trump, @realDonaldTrump and @POTUS.  The opinions expressed are his own.Â Reuters has not edited the statements or confirmed their accuracy.  @realDonaldTrump : - â€œOn 1/20 - the day Trump was inaugurated - an estimated 35,000 ISIS fighters held approx 17,500 square miles of territory in both Iraq and Syria. As of 12/21, the U.S. military estimates the remaining 1,000 or so fighters occupy roughly 1,900 square miles...â€ via @jamiejmcintyre  [1749 EST] - Just left West Palm Beach Fire & Rescue #2. Met with great men and women as representatives of those who do so much for all of us. Firefighters, paramedics, first responders - what amazing people they are! [1811 EST] - â€œOn 1/20 - the day Trump was inaugurated - an estimated 35,000 ISIS fighters held approx 17,500 square miles of territory in both Iraq and Syria. As of 12/21, the U.S. military est the remaining 1,000 or so fighters occupy roughly 1,900 square miles..â€ @jamiejmcintyre @dcexaminer [2109 EST] - \"Arrests of MS-13 Members, Associates Up 83% Under Trump\" bit.ly/2liRH3b [2146 EST] -- Source link: (bit.ly/2jBh4LU) (bit.ly/2jpEXYR) \""
   ]
  },
  {
   "cell_type": "code",
   "execution_count": 14,
   "id": "68eb1406-7652-4faa-b2e2-18f5f4cc0169",
   "metadata": {},
   "outputs": [
    {
     "name": "stdout",
     "output_type": "stream",
     "text": [
      "Real (0)\n"
     ]
    }
   ],
   "source": [
    "!python predict.py \"WASHINGTON (Reuters) - The Trump administration briefed congressional staff this week on how the White House was considering non-proliferation standards in a potential pact to sell nuclear reactor technology to Saudi Arabia, but did not indicate whether allowing uranium enrichment would be part of any deal, congressional aides said. Non-proliferation advocates worry that allowing Saudi Arabia to enrich fuel in a nuclear power deal could also enable it to one day covertly produce fissile material and set off an arms race with arch-rival Iran that could spread more broadly throughout the Middle East.  Senate Foreign Relations Committee staff members were briefed by State Department and Department of Energy officials in a meeting on Wednesday, the aides said. They learned the administration â€œis working to develop a position on non-proliferation standardsâ€ should they begin talks with Saudi Arabia on a civilian nuclear cooperation pact known as a 123 agreement, a committee aide said.  The administration is still mulling whether any agreement would allow uranium enrichment, the aide said.  The race to build Saudi Arabiaâ€™s first nuclear power reactors is heating up among U.S., South Korean, Chinese and Russian companies.  U.S. Energy Secretary Rick Perry visited Saudi Arabia last week, telling Reuters then that new talks between the two allies on a 123 agreement would start soon. An agreement would allow U.S. companies to participate in Saudi Arabiaâ€™s civilian nuclear program. Riyadh has said it wants to be self-sufficient in producing nuclear fuel and that it is not interested in diverting nuclear technology to military use. In previous talks, Saudi Arabia has refused to sign an agreement with Washington that would deprive it of enriching uranium. Uranium fuel for reactors is enriched to only about 5 percent, lower than the 90 percent level for fissile material in nuclear bombs. Some senators with proliferation concerns worry the administration is moving too quickly on talks about nuclear plants and enrichment with Saudi without consulting Congress. As required by a 2008 law, the president is required to keep the committees in the House and Senate that deal with foreign relations â€œfully and currently informedâ€ on any initiative and talks relating to new or amended 123 agreements. â€œWeâ€™re frustrated by the lack of briefings and having to yet again learn about potential foreign policy developments from the press,â€ a congressional aide said. A day before the senate briefing, a report by Bloomberg citing sources said that the administration may allow uranium enrichment as part of an agreement. The congressional aide said there are concerns that plans for an agreement are only being conducted by a small number of people controlled by the White House. â€œIt also appears that this is policy being driven out of the White House, which makes congressional oversight that much harder,â€ said the aide. If lawmakers oppose a civilian nuclear deal signed by the president they can try to fight it with legislation or other measures. The Trump administration and the previous Obama administration have pushed for selling nuclear power technology abroad, partly to keep the country competitive with Russia and China in nuclear innovation. A State Department official said the United States and Saudi Arabia have been in talks since 2012 regarding a 123 agreement but declined to comment on the discussions. Energy Department officials did not immediately comment on the briefing. Toshiba-owned Westinghouse is in talks with other U.S.- based companies to form a consortium for a bid in a multibillion-dollar tender for two nuclear reactors in Saudi Arabia. Winning a bid would be a big step for Westinghouse. It went into Chapter 11 bankruptcy this year and abandoned plans to build two advanced AP1000 reactors in the United States.\""
   ]
  },
  {
   "cell_type": "code",
   "execution_count": null,
   "id": "daaeaec0-3bce-4b62-86fa-07fbc7f8d824",
   "metadata": {},
   "outputs": [],
   "source": []
  }
 ],
 "metadata": {
  "kernelspec": {
   "display_name": "base",
   "language": "python",
   "name": "python3"
  },
  "language_info": {
   "codemirror_mode": {
    "name": "ipython",
    "version": 3
   },
   "file_extension": ".py",
   "mimetype": "text/x-python",
   "name": "python",
   "nbconvert_exporter": "python",
   "pygments_lexer": "ipython3",
   "version": "3.13.5"
  }
 },
 "nbformat": 4,
 "nbformat_minor": 5
}
